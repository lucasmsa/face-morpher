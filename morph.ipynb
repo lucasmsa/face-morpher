{
 "cells": [
  {
   "cell_type": "markdown",
   "metadata": {},
   "source": [
    "## Morfar faces \n",
    "- Recebendo duas imagens de input, gerar um output morfando ambas \n",
    "- A parte de morfar será realizada frame por frame, em que cada frame entre t (variando de 0 a 1), cada pixel (x, y) terá o frame morfado através da seguinte fórmula $M_t(x, y) = (1 - t)*I_0(x, y) + t*I_1(x, y)$; logo, quando t for igual a 0, a imagem morfada é igual a $I_0$, se for 1, a imagem morfada é igual a $I_1$, através de um método chamado _cross-dissolve_ que balança a coloração nos frames do meio, mas deixará um efeito de _ghosting_ visto que as faces "
   ]
  },
  {
   "cell_type": "code",
   "execution_count": null,
   "metadata": {},
   "outputs": [],
   "source": []
  },
  {
   "cell_type": "code",
   "execution_count": null,
   "metadata": {},
   "outputs": [],
   "source": []
  }
 ],
 "metadata": {
  "kernelspec": {
   "display_name": "Python 3",
   "language": "python",
   "name": "python3"
  },
  "language_info": {
   "codemirror_mode": {
    "name": "ipython",
    "version": 3
   },
   "file_extension": ".py",
   "mimetype": "text/x-python",
   "name": "python",
   "nbconvert_exporter": "python",
   "pygments_lexer": "ipython3",
   "version": "3.8.5"
  }
 },
 "nbformat": 4,
 "nbformat_minor": 4
}
